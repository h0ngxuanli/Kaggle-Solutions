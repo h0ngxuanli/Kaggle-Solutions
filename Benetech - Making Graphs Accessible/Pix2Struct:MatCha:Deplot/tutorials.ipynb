{
 "cells": [
  {
   "cell_type": "markdown",
   "metadata": {},
   "source": [
    "# Foundation models for reasoning on charts\n",
    "https://ai.googleblog.com/2023/05/foundation-models-for-reasoning-on.html"
   ]
  },
  {
   "cell_type": "markdown",
   "metadata": {},
   "source": [
    "- Pix2Struct -> backbone -> MatCha -> pretrain a Pix2Struct checkpoint with new objectives\n",
    "- MatCha  -> backbone -> Deplot -> fine-tuned MatCha solely on the chart-to-table task"
   ]
  },
  {
   "cell_type": "markdown",
   "metadata": {},
   "source": []
  }
 ],
 "metadata": {
  "language_info": {
   "name": "python"
  },
  "orig_nbformat": 4
 },
 "nbformat": 4,
 "nbformat_minor": 2
}
