{
 "cells": [
  {
   "cell_type": "markdown",
   "metadata": {},
   "source": [
    "# 🚀 Solutions"
   ]
  },
  {
   "cell_type": "markdown",
   "metadata": {},
   "source": [
    "## Foundation models for reasoning on charts"
   ]
  },
  {
   "cell_type": "markdown",
   "metadata": {},
   "source": [
    "https://ai.googleblog.com/2023/05/foundation-models-for-reasoning-on.html\n",
    "- Pix2Struct -> backbone -> MatCha -> pretrain a Pix2Struct checkpoint with new objectives\n",
    "- MatCha  -> backbone -> Deplot -> fine-tuned MatCha solely on the chart-to-table task"
   ]
  },
  {
   "cell_type": "markdown",
   "metadata": {},
   "source": [
    "## Pix2Struct Tutorial"
   ]
  },
  {
   "cell_type": "markdown",
   "metadata": {},
   "source": [
    "https://www.kaggle.com/code/heyytanay/training-pix2struct-pytorch-amp-w-b/notebook\n",
    "\n",
    "https://github.com/huggingface/transformers/issues/22903\n",
    "\n",
    "https://github.com/NielsRogge/Transformers-Tutorials/blob/master/Pix2Struct/Fine_tune_Pix2Struct_on_key_value_pair_dataset_(PyTorch_Lightning).ipynb\n",
    "\n",
    "https://github.com/huggingface/notebooks/blob/main/examples/image_captioning_pix2struct.ipynb"
   ]
  },
  {
   "cell_type": "markdown",
   "metadata": {},
   "source": [
    "## Matcha Tutorial"
   ]
  },
  {
   "cell_type": "markdown",
   "metadata": {},
   "source": [
    "https://www.kaggle.com/code/alejopaullier/benetech-matcha-train-0-74"
   ]
  },
  {
   "cell_type": "markdown",
   "metadata": {},
   "source": [
    "## Deplot Label Text Reading and Data Series Input format"
   ]
  },
  {
   "cell_type": "markdown",
   "metadata": {},
   "source": [
    "https://www.kaggle.com/competitions/benetech-making-graphs-accessible/discussion/418786\n",
    "\n",
    "https://www.kaggle.com/competitions/benetech-making-graphs-accessible/discussion/418466"
   ]
  },
  {
   "cell_type": "markdown",
   "metadata": {},
   "source": [
    "Bars & Lines & Dots GT format\n",
    "\n",
    "`<0x0A> x_value1 | y_value1 <0x0A> x_value2 | y_value2 <0x0A> x_value3 | y_value3 </s>`"
   ]
  },
  {
   "cell_type": "markdown",
   "metadata": {},
   "source": [
    "Label text reading GT\n",
    "\n",
    "`<0x0A> x_label1 | x_label2 | x_label3 <0x0A> y_label1 | y_label2 </s>`"
   ]
  },
  {
   "cell_type": "markdown",
   "metadata": {},
   "source": [
    "## Spell check on tick labels using BERT"
   ]
  },
  {
   "cell_type": "markdown",
   "metadata": {},
   "source": [
    "https://www.kaggle.com/code/eleonoraricci/spell-check-on-tick-labels-using-bert/notebook"
   ]
  },
  {
   "cell_type": "code",
   "execution_count": null,
   "metadata": {},
   "outputs": [],
   "source": [
    "!git lfs install\n",
    "!git clone https://huggingface.co/pszemraj/neuspell-subwordbert-probwordnoise"
   ]
  },
  {
   "cell_type": "code",
   "execution_count": null,
   "metadata": {},
   "outputs": [],
   "source": [
    "from neuspell import BertChecker\n",
    "checker = BertChecker()\n",
    "checker.from_pretrained(\"./neuspell-subwordbert-probwordnoise/\")"
   ]
  },
  {
   "cell_type": "markdown",
   "metadata": {},
   "source": [
    "## Chart Generator "
   ]
  },
  {
   "cell_type": "markdown",
   "metadata": {},
   "source": [
    "https://www.kaggle.com/code/brendanartley/benetech-5-chart-types-generator"
   ]
  },
  {
   "cell_type": "markdown",
   "metadata": {},
   "source": [
    "Deplot format\n",
    "\n",
    "`2005 | 4344.2 <0x0A> 2006 | 4549.7 <0x0A> 2007 | 4667.2 <0x0A> 2008 | 4579.1 <0x0A> 2009 | 4579.1 <0x0A> 2010 | 4520.4 <0x0A> 2011 | 4373.5 <0x0A> 2012 | 4079.9 <0x0A> 2013 | 3844.9 <0x0A> 2014 | 3492.6 <0x0A> 2015 | 3610.0 <0x0A> 2016 | 3991.8 <0x0A> 2017 | 4314.8 <0x0A> 2018 | 3962.4 <0x0A> 2019 | 4256.1`"
   ]
  },
  {
   "cell_type": "markdown",
   "metadata": {},
   "source": [
    "## Flattening JSON data with pandas"
   ]
  },
  {
   "cell_type": "markdown",
   "metadata": {},
   "source": [
    "https://www.kaggle.com/code/kimtaehun/simple-eda-and-flattening-json-data-with-pandas"
   ]
  },
  {
   "cell_type": "code",
   "execution_count": 2,
   "metadata": {},
   "outputs": [],
   "source": [
    "from pandas.io.json import json_normalize"
   ]
  },
  {
   "cell_type": "markdown",
   "metadata": {},
   "source": [
    "## Deplot + U-Net for scatter plot"
   ]
  },
  {
   "cell_type": "markdown",
   "metadata": {},
   "source": [
    "https://www.kaggle.com/competitions/benetech-making-graphs-accessible/discussion/418466"
   ]
  },
  {
   "cell_type": "markdown",
   "metadata": {},
   "source": [
    "# 🔨 Tools"
   ]
  },
  {
   "cell_type": "code",
   "execution_count": null,
   "metadata": {},
   "outputs": [],
   "source": []
  },
  {
   "cell_type": "markdown",
   "metadata": {},
   "source": [
    "# W&B\n",
    "https://www.kaggle.com/code/ayuraj/experiment-tracking-with-weights-and-biases/notebook"
   ]
  },
  {
   "cell_type": "markdown",
   "metadata": {},
   "source": []
  }
 ],
 "metadata": {
  "kernelspec": {
   "display_name": "base",
   "language": "python",
   "name": "python3"
  },
  "language_info": {
   "codemirror_mode": {
    "name": "ipython",
    "version": 3
   },
   "file_extension": ".py",
   "mimetype": "text/x-python",
   "name": "python",
   "nbconvert_exporter": "python",
   "pygments_lexer": "ipython3",
   "version": "3.9.13"
  },
  "orig_nbformat": 4
 },
 "nbformat": 4,
 "nbformat_minor": 2
}
